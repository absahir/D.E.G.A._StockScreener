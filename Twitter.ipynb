{
 "cells": [
  {
   "cell_type": "code",
   "execution_count": 236,
   "metadata": {},
   "outputs": [],
   "source": [
    "import tweepy\n",
    "import os\n",
    "import time\n",
    "import pandas as pd\n",
    "import re"
   ]
  },
  {
   "cell_type": "code",
   "execution_count": 237,
   "metadata": {},
   "outputs": [
    {
     "data": {
      "text/plain": [
       "True"
      ]
     },
     "execution_count": 237,
     "metadata": {},
     "output_type": "execute_result"
    }
   ],
   "source": [
    "from dotenv import load_dotenv\n",
    "load_dotenv(\"App_keys.env\")"
   ]
  },
  {
   "cell_type": "code",
   "execution_count": 238,
   "metadata": {},
   "outputs": [],
   "source": [
    "twt_api_key = os.getenv(\"API_key\")\n",
    "twt_secret_key = os.getenv(\"API_secret\")"
   ]
  },
  {
   "cell_type": "code",
   "execution_count": 239,
   "metadata": {},
   "outputs": [],
   "source": [
    "callback_uri=\"oob\""
   ]
  },
  {
   "cell_type": "code",
   "execution_count": 241,
   "metadata": {},
   "outputs": [],
   "source": [
    "auth=tweepy.OAuthHandler(twt_api_key,twt_secret_key,callback_uri)\n",
    "redirect_url=auth.get_authorization_url()\n",
    "#print(redirect_url)"
   ]
  },
  {
   "cell_type": "code",
   "execution_count": 242,
   "metadata": {},
   "outputs": [],
   "source": [
    "import webbrowser"
   ]
  },
  {
   "cell_type": "code",
   "execution_count": 243,
   "metadata": {},
   "outputs": [
    {
     "data": {
      "text/plain": [
       "True"
      ]
     },
     "execution_count": 243,
     "metadata": {},
     "output_type": "execute_result"
    }
   ],
   "source": [
    "webbrowser.open(redirect_url)"
   ]
  },
  {
   "cell_type": "code",
   "execution_count": 244,
   "metadata": {},
   "outputs": [
    {
     "name": "stdin",
     "output_type": "stream",
     "text": [
      "Please enter your 7 digit authentication pin:  0879523\n"
     ]
    }
   ],
   "source": [
    "user_pin=input(\"Please enter your 7 digit authentication pin: \")"
   ]
  },
  {
   "cell_type": "code",
   "execution_count": 245,
   "metadata": {},
   "outputs": [
    {
     "data": {
      "text/plain": [
       "('158741608-axQe2qJ4uUS7uDOEK3HiZGX6lQlGDYFvmvqIaswg',\n",
       " 'DHGkGFYrY6wjlswag0BmL2tDnYa5XS80aVOFb8jv7YJSW')"
      ]
     },
     "execution_count": 245,
     "metadata": {},
     "output_type": "execute_result"
    }
   ],
   "source": [
    "auth.get_access_token(user_pin)"
   ]
  },
  {
   "cell_type": "code",
   "execution_count": 246,
   "metadata": {},
   "outputs": [
    {
     "name": "stdout",
     "output_type": "stream",
     "text": [
      "158741608-axQe2qJ4uUS7uDOEK3HiZGX6lQlGDYFvmvqIaswg DHGkGFYrY6wjlswag0BmL2tDnYa5XS80aVOFb8jv7YJSW\n"
     ]
    }
   ],
   "source": [
    "print(auth.access_token, auth.access_token_secret)"
   ]
  },
  {
   "cell_type": "code",
   "execution_count": 225,
   "metadata": {},
   "outputs": [],
   "source": [
    "api=tweepy.API(auth) #Read about the auth"
   ]
  },
  {
   "cell_type": "code",
   "execution_count": 249,
   "metadata": {},
   "outputs": [],
   "source": [
    "#me=api.me()"
   ]
  },
  {
   "cell_type": "code",
   "execution_count": 250,
   "metadata": {},
   "outputs": [],
   "source": [
    "#me"
   ]
  },
  {
   "cell_type": "code",
   "execution_count": 251,
   "metadata": {},
   "outputs": [],
   "source": [
    "#new_status=api.update_status(\"Snow_Day Gone\")"
   ]
  },
  {
   "cell_type": "code",
   "execution_count": 252,
   "metadata": {},
   "outputs": [],
   "source": [
    "#Extract n number of tweets from the timeline of a particualr user\n",
    "\n",
    "feed=api.user_timeline(screen_name=[\"elonmusk\", count=100, lang=\"en\", tweet_mode=\"extended\")"
   ]
  },
  {
   "cell_type": "code",
   "execution_count": 253,
   "metadata": {},
   "outputs": [
    {
     "name": "stdout",
     "output_type": "stream",
     "text": [
      "Showing the 5 latest tweets: \n",
      "\n",
      "@tobyliiiiiiiiii This is intended for Earth, but there may be some ideas that apply to Mars too\n",
      "\n",
      "@CryptoShrikar @CoinDesk @Tesla @Dan_Z_Palmer 🤣🤣\n",
      "\n",
      "XPrize team will manage the $100M carbon capture prize https://t.co/fSw5IanL0r\n",
      "\n",
      "@SRuhle Everyone at Tesla receives stock. \n",
      "\n",
      "My comp is all stock/options, which I do not take off the table. \n",
      "\n",
      "That’s what you’re missing.\n",
      "\n",
      "Back to work I go …\n",
      "\n"
     ]
    }
   ],
   "source": [
    "#Print the lastest 5 tweets from the above account\n",
    "print(\"Showing the 5 latest tweets: \\n\")\n",
    "for t in feed[0:5]:\n",
    "    print(t.full_text + \"\\n\")"
   ]
  },
  {
   "cell_type": "code",
   "execution_count": 254,
   "metadata": {},
   "outputs": [
    {
     "name": "stdout",
     "output_type": "stream",
     "text": [
      "1)@tobyliiiiiiiiii This is intended for Earth, but there may be some ideas that apply to Mars too\n",
      "\n",
      "2)@CryptoShrikar @CoinDesk @Tesla @Dan_Z_Palmer 🤣🤣\n",
      "\n",
      "3)XPrize team will manage the $100M carbon capture prize https://t.co/fSw5IanL0r\n",
      "\n",
      "4)@SRuhle Everyone at Tesla receives stock. \n",
      "\n",
      "My comp is all stock/options, which I do not take off the table. \n",
      "\n",
      "That’s what you’re missing.\n",
      "\n",
      "5)Back to work I go …\n",
      "\n",
      "6)@CapybaraSurfer @MattWallace888 Does seem a bit high\n",
      "\n",
      "7)@itsALLrisky Doge appears to be inflationary, but is not meaningfully so (fixed # of coins per unit time), whereas BTC is arguably deflationary to a fault.\n",
      "\n",
      "Transaction speed of Doge should ideally be a few orders of magnitude faster.\n",
      "\n",
      "8)@MichaelGalanin @kevinmgill Wow\n",
      "\n",
      "9)@Erdayastronaut @michaelhodapp_ 1. Orbital launch tower that can stack\n",
      "2. Enough Raptors for orbit booster\n",
      "3. Improve ship &amp; booster mass\n",
      "\n",
      "10)@michaelhodapp_ Back to work tonight!\n",
      "\n"
     ]
    }
   ],
   "source": [
    "#Cleaning the tweet printouts\n",
    "i=1\n",
    "for t in feed[0:10]:\n",
    "    print(str(i)+')'+t.full_text+ \"\\n\")\n",
    "    i+=1"
   ]
  },
  {
   "cell_type": "code",
   "execution_count": 232,
   "metadata": {},
   "outputs": [],
   "source": [
    "#create a datafrmae with a column called tweets\n",
    "tweet_df= pd.DataFrame([t.full_text for t in feed], columns=[\"Tweets\"])"
   ]
  },
  {
   "cell_type": "code",
   "execution_count": 233,
   "metadata": {},
   "outputs": [
    {
     "data": {
      "text/html": [
       "<div>\n",
       "<style scoped>\n",
       "    .dataframe tbody tr th:only-of-type {\n",
       "        vertical-align: middle;\n",
       "    }\n",
       "\n",
       "    .dataframe tbody tr th {\n",
       "        vertical-align: top;\n",
       "    }\n",
       "\n",
       "    .dataframe thead th {\n",
       "        text-align: right;\n",
       "    }\n",
       "</style>\n",
       "<table border=\"1\" class=\"dataframe\">\n",
       "  <thead>\n",
       "    <tr style=\"text-align: right;\">\n",
       "      <th></th>\n",
       "      <th>Tweets</th>\n",
       "    </tr>\n",
       "  </thead>\n",
       "  <tbody>\n",
       "    <tr>\n",
       "      <th>0</th>\n",
       "      <td>@EricWollberg I know Salton Sea very well...</td>\n",
       "    </tr>\n",
       "    <tr>\n",
       "      <th>1</th>\n",
       "      <td>RT @theallinpod: the besties are answering fan...</td>\n",
       "    </tr>\n",
       "    <tr>\n",
       "      <th>2</th>\n",
       "      <td>This is my biggest focus right now. https://t....</td>\n",
       "    </tr>\n",
       "    <tr>\n",
       "      <th>3</th>\n",
       "      <td>@Sarah_Katilyn @DavidSacks i'm brown.</td>\n",
       "    </tr>\n",
       "    <tr>\n",
       "      <th>4</th>\n",
       "      <td>@ragulojan ❤️🙏🏽</td>\n",
       "    </tr>\n",
       "  </tbody>\n",
       "</table>\n",
       "</div>"
      ],
      "text/plain": [
       "                                              Tweets\n",
       "0       @EricWollberg I know Salton Sea very well...\n",
       "1  RT @theallinpod: the besties are answering fan...\n",
       "2  This is my biggest focus right now. https://t....\n",
       "3              @Sarah_Katilyn @DavidSacks i'm brown.\n",
       "4                                    @ragulojan ❤️🙏🏽"
      ]
     },
     "execution_count": 233,
     "metadata": {},
     "output_type": "execute_result"
    }
   ],
   "source": [
    "tweet_df.head()"
   ]
  },
  {
   "cell_type": "code",
   "execution_count": 234,
   "metadata": {},
   "outputs": [],
   "source": [
    "#Cleaning the text\n",
    "\n",
    "#Create a function to clean\n",
    "\n",
    "def cleanTwt(text):\n",
    "    text=re.sub(r'@[A-Za-z0-9]+', '', text)# Removes @mentions\n",
    "    text=re.sub(r'RT','',text)             #Removing Rt symbols\n",
    "    text=re.sub(r'#','',text)              #Removing Hastab symbols\n",
    "    test=re.sub(r'https?:\\/\\/\\S+','',text) #Removes Hyperlink\n",
    "    \n",
    "    return text"
   ]
  },
  {
   "cell_type": "code",
   "execution_count": 255,
   "metadata": {},
   "outputs": [
    {
     "data": {
      "text/html": [
       "<div>\n",
       "<style scoped>\n",
       "    .dataframe tbody tr th:only-of-type {\n",
       "        vertical-align: middle;\n",
       "    }\n",
       "\n",
       "    .dataframe tbody tr th {\n",
       "        vertical-align: top;\n",
       "    }\n",
       "\n",
       "    .dataframe thead th {\n",
       "        text-align: right;\n",
       "    }\n",
       "</style>\n",
       "<table border=\"1\" class=\"dataframe\">\n",
       "  <thead>\n",
       "    <tr style=\"text-align: right;\">\n",
       "      <th></th>\n",
       "      <th>Tweets</th>\n",
       "    </tr>\n",
       "  </thead>\n",
       "  <tbody>\n",
       "    <tr>\n",
       "      <th>0</th>\n",
       "      <td>I know Salton Sea very well...</td>\n",
       "    </tr>\n",
       "    <tr>\n",
       "      <th>1</th>\n",
       "      <td>: the besties are answering fan questions thi...</td>\n",
       "    </tr>\n",
       "    <tr>\n",
       "      <th>2</th>\n",
       "      <td>This is my biggest focus right now. https://t....</td>\n",
       "    </tr>\n",
       "    <tr>\n",
       "      <th>3</th>\n",
       "      <td>_Katilyn  i'm brown.</td>\n",
       "    </tr>\n",
       "    <tr>\n",
       "      <th>4</th>\n",
       "      <td>❤️🙏🏽</td>\n",
       "    </tr>\n",
       "    <tr>\n",
       "      <th>5</th>\n",
       "      <td>😢</td>\n",
       "    </tr>\n",
       "    <tr>\n",
       "      <th>6</th>\n",
       "      <td>We may all be one defamation lawsuit away from...</td>\n",
       "    </tr>\n",
       "    <tr>\n",
       "      <th>7</th>\n",
       "      <td>What in the goddamn hell?!?! Is this possible?</td>\n",
       "    </tr>\n",
       "    <tr>\n",
       "      <th>8</th>\n",
       "      <td>That’s not what you tweeted. You were implyi...</td>\n",
       "    </tr>\n",
       "    <tr>\n",
       "      <th>9</th>\n",
       "      <td>You called?</td>\n",
       "    </tr>\n",
       "  </tbody>\n",
       "</table>\n",
       "</div>"
      ],
      "text/plain": [
       "                                              Tweets\n",
       "0                     I know Salton Sea very well...\n",
       "1   : the besties are answering fan questions thi...\n",
       "2  This is my biggest focus right now. https://t....\n",
       "3                               _Katilyn  i'm brown.\n",
       "4                                               ❤️🙏🏽\n",
       "5                                                  😢\n",
       "6  We may all be one defamation lawsuit away from...\n",
       "7     What in the goddamn hell?!?! Is this possible?\n",
       "8    That’s not what you tweeted. You were implyi...\n",
       "9                                        You called?"
      ]
     },
     "execution_count": 255,
     "metadata": {},
     "output_type": "execute_result"
    }
   ],
   "source": [
    "tweet_df[\"Tweets\"]=tweet_df[\"Tweets\"].apply(cleanTwt)\n",
    "tweet_df.head(10)"
   ]
  },
  {
   "cell_type": "code",
   "execution_count": 182,
   "metadata": {},
   "outputs": [],
   "source": [
    "from textblob import TextBlob\n",
    "import sys"
   ]
  },
  {
   "cell_type": "code",
   "execution_count": 256,
   "metadata": {},
   "outputs": [],
   "source": [
    "search_term= \"$F\"\n"
   ]
  },
  {
   "cell_type": "code",
   "execution_count": 184,
   "metadata": {},
   "outputs": [],
   "source": [
    "tweet_amount=10"
   ]
  },
  {
   "cell_type": "code",
   "execution_count": 257,
   "metadata": {},
   "outputs": [],
   "source": [
    "tweets=tweepy.Cursor(api.search,q=search_term, lang='en').items(tweet_amount)"
   ]
  },
  {
   "cell_type": "code",
   "execution_count": 258,
   "metadata": {},
   "outputs": [
    {
     "name": "stdout",
     "output_type": "stream",
     "text": [
      "What an incredible thing that is going on here....Ford and Snøhetta to turn Michigan Central Station into “innovati… https://t.co/6Ew3H5ZIwZ\n",
      "RT @ospina_yan: Stocks I’m long on and hoping to buy next week:\n",
      "1. $NIO\n",
      "2. $ABML\n",
      "3. $F\n",
      "4. $FUBO\n",
      "5. $GEVO\n",
      "6. $IDEX\n",
      "7. $NBEV\n",
      "8. $RIDE\n",
      "9. $SND…\n",
      "$F vs. $fcau https://t.co/Sils5wlhF0\n",
      "RT @GoingGreenPicks: $PVSP, Last trade .0011 up 37.5%. Momo will drive it into the close. .01 near term Price Target imo. RM coming into th…\n",
      "RT @GoingGreenPicks: $HTSC, Their Gowan Project may be the biggest Class 1 Nickel find in Timmins Ontario. The current ask is .179. $HTSC i…\n",
      "RT @GoingGreenPicks: $HTSC, .12 shares at the following link: https://t.co/Yhq5NJLw5P\n",
      "$TSNP $BDGR $BLSP $CBBT $COUV $ATVK $INKW $CANB $IDGC…\n",
      "RT @GoingGreenPicks: $HTSC, EV Nickel Sulphide battery cell project in Timmins Ontario. Last trade .159. $HTSC is crowdfunding too and offe…\n",
      "RT @GoingGreenPicks: $HTSC, Last trade .179. The company is making investors a great offer right now. If you buy $HTSC off the market you c…\n",
      "RT @GoingGreenPicks: $PVSP, Clean company. Never a shell. Reverse Merger is management’s game plan. Last trade .001. .005 by weeks end imo.…\n",
      "RT @GoingGreenPicks: $PVSP, Clean company. Never a shell. Reverse Merger is management’s game plan. Last trade .001. .005 by weeks end imo.…\n",
      "0.08146825396825398\n"
     ]
    }
   ],
   "source": [
    "polarity=0\n",
    "\n",
    "for tweets in tweets:\n",
    "    print(tweets.text)\n",
    "    final_text= tweets.text.replace('RT', \" \")\n",
    "    if final_text.startswith(\" @\"):\n",
    "             position=final_text.index(\":\")\n",
    "             final_text=final_text[position+2:]\n",
    "    if final_text.startswith(\"@\"):\n",
    "             position=final_text.index(\":\")\n",
    "             final_text=final_text[position+2:]\n",
    "     #print(final_text)\n",
    "    analysis= TextBlob(final_text)\n",
    "    polarity +=analysis.polarity\n",
    "print(polarity/tweet_amount)\n",
    "                                    \n",
    "    "
   ]
  },
  {
   "cell_type": "code",
   "execution_count": 259,
   "metadata": {},
   "outputs": [],
   "source": [
    "publc_tweet=api.search('$GOOG', lang='en')"
   ]
  },
  {
   "cell_type": "code",
   "execution_count": 260,
   "metadata": {},
   "outputs": [
    {
     "name": "stdout",
     "output_type": "stream",
     "text": [
      "RT @QTRResearch: If co’s like $GOOG $AAPL $MSFT start buying Bitcoin it could be time to reconsider the too big to fail case. Government ma…\n",
      "Sentiment(polarity=-0.25, subjectivity=0.19999999999999996)\n",
      "Imagine all 4 FANG companies get into and accept  #Bitcoin $FB $AMZN $NFLX $GOOG ... oh it’s pretty realistic now w… https://t.co/SGkXSz3rWF\n",
      "Sentiment(polarity=0.20833333333333331, subjectivity=0.6666666666666666)\n",
      "RT @QTRResearch: If co’s like $GOOG $AAPL $MSFT start buying Bitcoin it could be time to reconsider the too big to fail case. Government ma…\n",
      "Sentiment(polarity=-0.25, subjectivity=0.19999999999999996)\n",
      "RT @QTRResearch: If co’s like $GOOG $AAPL $MSFT start buying Bitcoin it could be time to reconsider the too big to fail case. Government ma…\n",
      "Sentiment(polarity=-0.25, subjectivity=0.19999999999999996)\n",
      "@SalehAhmedd_ Each passing day I'm convinced more and more thag #Vechain will be compared amongst $TSLA $AAPL and… https://t.co/9UYk7osV3z\n",
      "Sentiment(polarity=0.5, subjectivity=0.5)\n",
      "RT @QTRResearch: If co’s like $GOOG $AAPL $MSFT start buying Bitcoin it could be time to reconsider the too big to fail case. Government ma…\n",
      "Sentiment(polarity=-0.25, subjectivity=0.19999999999999996)\n",
      "RT @QTRResearch: If co’s like $GOOG $AAPL $MSFT start buying Bitcoin it could be time to reconsider the too big to fail case. Government ma…\n",
      "Sentiment(polarity=-0.25, subjectivity=0.19999999999999996)\n",
      "RT @QTRResearch: If co’s like $GOOG $AAPL $MSFT start buying Bitcoin it could be time to reconsider the too big to fail case. Government ma…\n",
      "Sentiment(polarity=-0.25, subjectivity=0.19999999999999996)\n",
      "RT @QTRResearch: If co’s like $GOOG $AAPL $MSFT start buying Bitcoin it could be time to reconsider the too big to fail case. Government ma…\n",
      "Sentiment(polarity=-0.25, subjectivity=0.19999999999999996)\n",
      "RT @DreadBong0: #Bitcoin would currently be the 8th biggest company in the world 🔥\n",
      "\n",
      "1 - $AAPL - $2.28t\n",
      "2 - https://t.co/gCq6eaOIKR - $2.01t…\n",
      "Sentiment(polarity=0.0, subjectivity=0.4)\n",
      "RT @QTRResearch: If co’s like $GOOG $AAPL $MSFT start buying Bitcoin it could be time to reconsider the too big to fail case. Government ma…\n",
      "Sentiment(polarity=-0.25, subjectivity=0.19999999999999996)\n",
      "RT @DreadBong0: #Bitcoin would currently be the 8th biggest company in the world 🔥\n",
      "\n",
      "1 - $AAPL - $2.28t\n",
      "2 - https://t.co/gCq6eaOIKR - $2.01t…\n",
      "Sentiment(polarity=0.0, subjectivity=0.4)\n",
      "@di_truly Thoughts on why EBITDA is flattish will remain flattish YoY?[also includes SBC right?}\n",
      "\n",
      "Also, why does th… https://t.co/f6BPix4gk0\n",
      "Sentiment(polarity=0.2857142857142857, subjectivity=0.5357142857142857)\n",
      "RT @QTRResearch: If co’s like $GOOG $AAPL $MSFT start buying Bitcoin it could be time to reconsider the too big to fail case. Government ma…\n",
      "Sentiment(polarity=-0.25, subjectivity=0.19999999999999996)\n",
      "Quant/Qual-Derived, Cap-weighted Picklist, International:\n",
      "#1 $TSLA\n",
      "#2 $ASML\n",
      "#3 $AMZN\n",
      "#4 $GOOG\n",
      "#5 $GOOGL\n",
      "#5 $NVDA\n",
      "#6… https://t.co/zJj4JnTbrk\n",
      "Sentiment(polarity=0.0, subjectivity=0.0)\n"
     ]
    }
   ],
   "source": [
    "for tw in publc_tweet:\n",
    "    print(tw.text)\n",
    "    analysis= TextBlob(tw.text)\n",
    "    print(analysis.sentiment)\n"
   ]
  },
  {
   "cell_type": "code",
   "execution_count": null,
   "metadata": {},
   "outputs": [],
   "source": []
  }
 ],
 "metadata": {
  "kernelspec": {
   "display_name": "Python [conda env:pyvizenv]",
   "language": "python",
   "name": "conda-env-pyvizenv-py"
  },
  "language_info": {
   "codemirror_mode": {
    "name": "ipython",
    "version": 3
   },
   "file_extension": ".py",
   "mimetype": "text/x-python",
   "name": "python",
   "nbconvert_exporter": "python",
   "pygments_lexer": "ipython3",
   "version": "3.7.9"
  }
 },
 "nbformat": 4,
 "nbformat_minor": 4
}
